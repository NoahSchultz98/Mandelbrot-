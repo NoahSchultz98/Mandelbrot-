{
 "cells": [
  {
   "cell_type": "markdown",
   "id": "3ae82bbb-6ddb-4e98-b2e7-0138f94725ba",
   "metadata": {},
   "source": [
    "## Working through whatever\n",
    "\n"
   ]
  },
  {
   "cell_type": "code",
   "execution_count": 31,
   "id": "d3b5a9bf-ac14-4842-9c9b-e4c0048a63e5",
   "metadata": {},
   "outputs": [],
   "source": [
    "using Revise"
   ]
  },
  {
   "cell_type": "code",
   "execution_count": 32,
   "id": "26e9dcf2-ae75-47af-89b7-46b978a94483",
   "metadata": {},
   "outputs": [],
   "source": [
    "includet(\"Fractals.jl\")"
   ]
  },
  {
   "cell_type": "code",
   "execution_count": 33,
   "id": "41f1da41-b1e2-408c-a12a-6db76662859b",
   "metadata": {},
   "outputs": [],
   "source": [
    "using .Fractals"
   ]
  },
  {
   "cell_type": "code",
   "execution_count": 34,
   "id": "5486fb7f-2fc9-40dc-8c49-e6c2a452d954",
   "metadata": {},
   "outputs": [
    {
     "name": "stdout",
     "output_type": "stream",
     "text": [
      "search: \u001b[0m\u001b[1mi\u001b[22m\u001b[0m\u001b[1mt\u001b[22m\u001b[0m\u001b[1me\u001b[22m\u001b[0m\u001b[1mr\u001b[22m\u001b[0m\u001b[1ma\u001b[22m\u001b[0m\u001b[1mt\u001b[22m\u001b[0m\u001b[1me\u001b[22m\u001b[0m\u001b[1mF\u001b[22m\u001b[0m\u001b[1mu\u001b[22m\u001b[0m\u001b[1mn\u001b[22m\u001b[0m\u001b[1mc\u001b[22m\u001b[0m\u001b[1mt\u001b[22m\u001b[0m\u001b[1mi\u001b[22m\u001b[0m\u001b[1mo\u001b[22m\u001b[0m\u001b[1mn\u001b[22m\n",
      "\n"
     ]
    },
    {
     "data": {
      "text/latex": [
       "No documentation found.\n",
       "\n",
       "\\texttt{Main.Fractals.iterateFunction} is a \\texttt{Function}.\n",
       "\n",
       "\\begin{verbatim}\n",
       "# 1 method for generic function \"iterateFunction\":\n",
       "[1] iterateFunction(f::Function, initial::Complex, i::Integer) in Main.Fractals at C:\\Users\\xfouc\\OneDrive\\Documents\\Mandelbrot-\\Fractals.jl:25\n",
       "\\end{verbatim}\n"
      ],
      "text/markdown": [
       "No documentation found.\n",
       "\n",
       "`Main.Fractals.iterateFunction` is a `Function`.\n",
       "\n",
       "```\n",
       "# 1 method for generic function \"iterateFunction\":\n",
       "[1] iterateFunction(f::Function, initial::Complex, i::Integer) in Main.Fractals at C:\\Users\\xfouc\\OneDrive\\Documents\\Mandelbrot-\\Fractals.jl:25\n",
       "```\n"
      ],
      "text/plain": [
       "  No documentation found.\n",
       "\n",
       "  \u001b[36mMain.Fractals.iterateFunction\u001b[39m is a \u001b[36mFunction\u001b[39m.\n",
       "\n",
       "\u001b[36m  # 1 method for generic function \"iterateFunction\":\u001b[39m\n",
       "\u001b[36m  [1] iterateFunction(f::Function, initial::Complex, i::Integer) in Main.Fractals at C:\\Users\\xfouc\\OneDrive\\Documents\\Mandelbrot-\\Fractals.jl:25\u001b[39m"
      ]
     },
     "execution_count": 34,
     "metadata": {},
     "output_type": "execute_result"
    }
   ],
   "source": [
    "?iterateFunction"
   ]
  },
  {
   "cell_type": "code",
   "execution_count": 22,
   "id": "63fdd94e-ede2-4fdd-9a11-ad3669574e00",
   "metadata": {},
   "outputs": [
    {
     "name": "stdout",
     "output_type": "stream",
     "text": [
      "\u001b[0m\u001b[1mTest Summary:  | \u001b[22m\u001b[32m\u001b[1mPass  \u001b[22m\u001b[39m\u001b[36m\u001b[1mTotal  \u001b[22m\u001b[39m\u001b[0m\u001b[1mTime\u001b[22m\n",
      "This is a test | \u001b[32m   1  \u001b[39m\u001b[36m    1  \u001b[39m\u001b[0m0.0s\n"
     ]
    },
    {
     "data": {
      "text/plain": [
       "Test.DefaultTestSet(\"This is a test\", Any[], 1, false, false, true, 1.669918257568e9, 1.669918257568e9)"
      ]
     },
     "execution_count": 22,
     "metadata": {},
     "output_type": "execute_result"
    }
   ],
   "source": [
    "include(\"Fractals-Test.jl\")"
   ]
  }
 ],
 "metadata": {
  "kernelspec": {
   "display_name": "Julia 1.8.2",
   "language": "julia",
   "name": "julia-1.8"
  },
  "language_info": {
   "file_extension": ".jl",
   "mimetype": "application/julia",
   "name": "julia",
   "version": "1.8.2"
  }
 },
 "nbformat": 4,
 "nbformat_minor": 5
}
