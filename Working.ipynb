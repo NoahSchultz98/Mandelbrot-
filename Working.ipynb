{
 "cells": [
  {
   "cell_type": "markdown",
   "id": "3ae82bbb-6ddb-4e98-b2e7-0138f94725ba",
   "metadata": {},
   "source": [
    "## Working through whatever\n",
    "\n"
   ]
  },
  {
   "cell_type": "code",
   "execution_count": null,
   "id": "d3b5a9bf-ac14-4842-9c9b-e4c0048a63e5",
   "metadata": {},
   "outputs": [],
   "source": []
  }
 ],
 "metadata": {
  "kernelspec": {
   "display_name": "Julia 1.8.0",
   "language": "julia",
   "name": "julia-1.8"
  },
  "language_info": {
   "file_extension": ".jl",
   "mimetype": "application/julia",
   "name": "julia",
   "version": "1.8.0"
  }
 },
 "nbformat": 4,
 "nbformat_minor": 5
}
