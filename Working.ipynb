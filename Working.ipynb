{
 "cells": [
  {
   "cell_type": "markdown",
   "id": "3ae82bbb-6ddb-4e98-b2e7-0138f94725ba",
   "metadata": {},
   "source": [
    "## Working through whatever\n",
    "\n"
   ]
  },
  {
   "cell_type": "code",
   "execution_count": 32,
   "id": "d3b5a9bf-ac14-4842-9c9b-e4c0048a63e5",
   "metadata": {},
   "outputs": [],
   "source": [
    "using Revise"
   ]
  },
  {
   "cell_type": "code",
   "execution_count": 33,
   "id": "26e9dcf2-ae75-47af-89b7-46b978a94483",
   "metadata": {},
   "outputs": [],
   "source": [
    "includet(\"Fractals.jl\")"
   ]
  },
  {
   "cell_type": "code",
   "execution_count": 34,
   "id": "41f1da41-b1e2-408c-a12a-6db76662859b",
   "metadata": {},
   "outputs": [],
   "source": [
    "using .Fractals"
   ]
  },
  {
   "cell_type": "code",
   "execution_count": 4,
   "id": "5486fb7f-2fc9-40dc-8c49-e6c2a452d954",
   "metadata": {},
   "outputs": [
    {
     "name": "stdout",
     "output_type": "stream",
     "text": [
      "search: \u001b[0m\u001b[1mi\u001b[22m\u001b[0m\u001b[1mt\u001b[22m\u001b[0m\u001b[1me\u001b[22m\u001b[0m\u001b[1mr\u001b[22m\u001b[0m\u001b[1ma\u001b[22m\u001b[0m\u001b[1mt\u001b[22m\u001b[0m\u001b[1me\u001b[22m\u001b[0m\u001b[1mF\u001b[22m\u001b[0m\u001b[1mu\u001b[22m\u001b[0m\u001b[1mn\u001b[22m\u001b[0m\u001b[1mc\u001b[22m\u001b[0m\u001b[1mt\u001b[22m\u001b[0m\u001b[1mi\u001b[22m\u001b[0m\u001b[1mo\u001b[22m\u001b[0m\u001b[1mn\u001b[22m\n",
      "\n"
     ]
    },
    {
     "data": {
      "text/latex": [
       "This is the iterate function that takes a compelx function and iterates it a certain number of times.\n",
       "\n",
       "returns a vector of complex numbers for each iteration including the initial\n",
       "\n"
      ],
      "text/markdown": [
       "This is the iterate function that takes a compelx function and iterates it a certain number of times.\n",
       "\n",
       "returns a vector of complex numbers for each iteration including the initial\n"
      ],
      "text/plain": [
       "  This is the iterate function that takes a compelx function and iterates it a\n",
       "  certain number of times.\n",
       "\n",
       "  returns a vector of complex numbers for each iteration including the initial"
      ]
     },
     "execution_count": 4,
     "metadata": {},
     "output_type": "execute_result"
    }
   ],
   "source": [
    "?iterateFunction"
   ]
  },
  {
   "cell_type": "code",
   "execution_count": 5,
   "id": "de460969-c19a-4ae3-93df-01b92b8cd5bf",
   "metadata": {
    "tags": []
   },
   "outputs": [
    {
     "data": {
      "text/plain": [
       "11-element Vector{Complex}:\n",
       "  0 + 0im\n",
       "  0 + 1im\n",
       " -1 + 1im\n",
       "  0 - 1im\n",
       " -1 + 1im\n",
       "  0 - 1im\n",
       " -1 + 1im\n",
       "  0 - 1im\n",
       " -1 + 1im\n",
       "  0 - 1im\n",
       " -1 + 1im"
      ]
     },
     "execution_count": 5,
     "metadata": {},
     "output_type": "execute_result"
    }
   ],
   "source": [
    "f(x) = x^2 + im\n",
    "\n",
    "iterateFunction(f, 0 + 0im, 10)"
   ]
  },
  {
   "cell_type": "code",
   "execution_count": 6,
   "id": "a97e759e-542b-4dd0-9de7-5de469f68b8e",
   "metadata": {},
   "outputs": [
    {
     "data": {
      "text/plain": [
       "101"
      ]
     },
     "execution_count": 6,
     "metadata": {},
     "output_type": "execute_result"
    }
   ],
   "source": [
    "leavingNumber()"
   ]
  },
  {
   "cell_type": "code",
   "execution_count": 7,
   "id": "b1138c07-ad9b-4b4b-91e5-11afe553abc0",
   "metadata": {},
   "outputs": [
    {
     "data": {
      "text/plain": [
       "2"
      ]
     },
     "execution_count": 7,
     "metadata": {},
     "output_type": "execute_result"
    }
   ],
   "source": [
    "leavingNumber(1+1im)"
   ]
  },
  {
   "cell_type": "code",
   "execution_count": 8,
   "id": "0850678f-f09f-4a7d-a7ee-3a813dd5ccbc",
   "metadata": {},
   "outputs": [
    {
     "ename": "LoadError",
     "evalue": "ArgumentError: The maximum number of iterations must be positive",
     "output_type": "error",
     "traceback": [
      "ArgumentError: The maximum number of iterations must be positive",
      "",
      "Stacktrace:",
      " [1] leavingNumber(initial::Complex{Int64}, i::Int64)",
      "   @ Main.Fractals C:\\Users\\xfouc\\OneDrive\\Documents\\Mandelbrot-\\Fractals.jl:68",
      " [2] top-level scope",
      "   @ In[8]:1",
      " [3] eval",
      "   @ .\\boot.jl:368 [inlined]",
      " [4] include_string(mapexpr::typeof(REPL.softscope), mod::Module, code::String, filename::String)",
      "   @ Base .\\loading.jl:1428"
     ]
    }
   ],
   "source": [
    "leavingNumber(0+0im, 0)"
   ]
  },
  {
   "cell_type": "code",
   "execution_count": 9,
   "id": "306f44cf-bb7e-4bce-acf3-8a5b6f9502fe",
   "metadata": {},
   "outputs": [
    {
     "data": {
      "text/plain": [
       "true"
      ]
     },
     "execution_count": 9,
     "metadata": {},
     "output_type": "execute_result"
    }
   ],
   "source": [
    "inMandelbrot(0+0im)"
   ]
  },
  {
   "cell_type": "code",
   "execution_count": 10,
   "id": "d776a364-c508-4df1-9465-3d214c60a887",
   "metadata": {},
   "outputs": [
    {
     "data": {
      "text/plain": [
       "false"
      ]
     },
     "execution_count": 10,
     "metadata": {},
     "output_type": "execute_result"
    }
   ],
   "source": [
    "inMandelbrot(1+1im)"
   ]
  },
  {
   "cell_type": "code",
   "execution_count": 11,
   "id": "3c2e993c-da82-4df3-9191-91e250f3937b",
   "metadata": {},
   "outputs": [
    {
     "ename": "LoadError",
     "evalue": "ArgumentError: The maximum number of iterations must be positive",
     "output_type": "error",
     "traceback": [
      "ArgumentError: The maximum number of iterations must be positive",
      "",
      "Stacktrace:",
      " [1] inMandelbrot(c::Complex{Int64}, j::Int64)",
      "   @ Main.Fractals C:\\Users\\xfouc\\OneDrive\\Documents\\Mandelbrot-\\Fractals.jl:97",
      " [2] top-level scope",
      "   @ In[11]:1",
      " [3] eval",
      "   @ .\\boot.jl:368 [inlined]",
      " [4] include_string(mapexpr::typeof(REPL.softscope), mod::Module, code::String, filename::String)",
      "   @ Base .\\loading.jl:1428"
     ]
    }
   ],
   "source": [
    "inMandelbrot(1+1im, -100)"
   ]
  },
  {
   "cell_type": "code",
   "execution_count": 36,
   "id": "63fdd94e-ede2-4fdd-9a11-ad3669574e00",
   "metadata": {},
   "outputs": [
    {
     "name": "stdout",
     "output_type": "stream",
     "text": [
      "\u001b[0m\u001b[1mTest Summary:                | \u001b[22m\u001b[32m\u001b[1mPass  \u001b[22m\u001b[39m\u001b[36m\u001b[1mTotal  \u001b[22m\u001b[39m\u001b[0m\u001b[1mTime\u001b[22m\n",
      "Constructor Test FractalView | \u001b[32m   5  \u001b[39m\u001b[36m    5  \u001b[39m\u001b[0m0.0s\n",
      "\u001b[0m\u001b[1mTest Summary:         | \u001b[22m\u001b[32m\u001b[1mPass  \u001b[22m\u001b[39m\u001b[36m\u001b[1mTotal  \u001b[22m\u001b[39m\u001b[0m\u001b[1mTime\u001b[22m\n",
      "IterateFunction tests | \u001b[32m   4  \u001b[39m\u001b[36m    4  \u001b[39m\u001b[0m0.0s\n",
      "\u001b[0m\u001b[1mTest Summary:       | \u001b[22m\u001b[32m\u001b[1mPass  \u001b[22m\u001b[39m\u001b[36m\u001b[1mTotal  \u001b[22m\u001b[39m\u001b[0m\u001b[1mTime\u001b[22m\n",
      "leavingNumber tests | \u001b[32m   6  \u001b[39m\u001b[36m    6  \u001b[39m\u001b[0m0.0s\n",
      "\u001b[0m\u001b[1mTest Summary:      | \u001b[22m\u001b[32m\u001b[1mPass  \u001b[22m\u001b[39m\u001b[36m\u001b[1mTotal  \u001b[22m\u001b[39m\u001b[0m\u001b[1mTime\u001b[22m\n",
      "inMandelbrot tests | \u001b[32m   6  \u001b[39m\u001b[36m    6  \u001b[39m\u001b[0m0.0s\n"
     ]
    },
    {
     "data": {
      "text/plain": [
       "Test.DefaultTestSet(\"inMandelbrot tests\", Any[], 6, false, false, true, 1.670017543898e9, 1.670017543898e9)"
      ]
     },
     "execution_count": 36,
     "metadata": {},
     "output_type": "execute_result"
    }
   ],
   "source": [
    "include(\"Fractals-Test.jl\")"
   ]
  },
  {
   "cell_type": "code",
   "execution_count": 13,
   "id": "cb5f5604-705f-4a5e-8e54-f6d47f7fdb6c",
   "metadata": {},
   "outputs": [
    {
     "data": {
      "text/plain": [
       "FractalView(0 + 0im, 0 + 2im, 800, 600)"
      ]
     },
     "execution_count": 13,
     "metadata": {},
     "output_type": "execute_result"
    }
   ],
   "source": [
    "FractalView()"
   ]
  },
  {
   "cell_type": "code",
   "execution_count": 14,
   "id": "00c014f1-875d-4343-b303-d35922c041e4",
   "metadata": {},
   "outputs": [
    {
     "data": {
      "text/plain": [
       "FractalView(0 + 1im, 5 + 5im, 800, 600)"
      ]
     },
     "execution_count": 14,
     "metadata": {},
     "output_type": "execute_result"
    }
   ],
   "source": [
    "FractalView(0+im, 5+5im)"
   ]
  },
  {
   "cell_type": "code",
   "execution_count": 15,
   "id": "95fd21fb-0c43-407c-9c50-38a4c220b114",
   "metadata": {},
   "outputs": [
    {
     "data": {
      "text/plain": [
       "FractalView(0 + 0im, 5 + 5im, 1000, 800)"
      ]
     },
     "execution_count": 15,
     "metadata": {},
     "output_type": "execute_result"
    }
   ],
   "source": [
    "FractalView(0+0im, 5+5im, 1000, 800)"
   ]
  },
  {
   "cell_type": "code",
   "execution_count": 16,
   "id": "69e6e9b0-ee93-494a-b833-bb775ee98650",
   "metadata": {},
   "outputs": [
    {
     "ename": "LoadError",
     "evalue": "ArgumentError: The size of the window must be a positive Integer larger than 0",
     "output_type": "error",
     "traceback": [
      "ArgumentError: The size of the window must be a positive Integer larger than 0",
      "",
      "Stacktrace:",
      " [1] FractalView(min::Complex{Int64}, max::Complex{Int64}, width::Int64, height::Int64)",
      "   @ Main.Fractals C:\\Users\\xfouc\\OneDrive\\Documents\\Mandelbrot-\\Fractals.jl:25",
      " [2] top-level scope",
      "   @ In[16]:1",
      " [3] eval",
      "   @ .\\boot.jl:368 [inlined]",
      " [4] include_string(mapexpr::typeof(REPL.softscope), mod::Module, code::String, filename::String)",
      "   @ Base .\\loading.jl:1428"
     ]
    }
   ],
   "source": [
    "FractalView(0im, 1im, -123, 100)"
   ]
  },
  {
   "cell_type": "code",
   "execution_count": 17,
   "id": "2f6976e0-03b3-4480-bf48-6b471655099c",
   "metadata": {},
   "outputs": [
    {
     "ename": "LoadError",
     "evalue": "ArgumentError: The size of the window must be a positive Integer larger than 0",
     "output_type": "error",
     "traceback": [
      "ArgumentError: The size of the window must be a positive Integer larger than 0",
      "",
      "Stacktrace:",
      " [1] FractalView(min::Complex{Int64}, max::Complex{Int64}, width::Int64, height::Int64)",
      "   @ Main.Fractals C:\\Users\\xfouc\\OneDrive\\Documents\\Mandelbrot-\\Fractals.jl:25",
      " [2] top-level scope",
      "   @ In[17]:1",
      " [3] eval",
      "   @ .\\boot.jl:368 [inlined]",
      " [4] include_string(mapexpr::typeof(REPL.softscope), mod::Module, code::String, filename::String)",
      "   @ Base .\\loading.jl:1428"
     ]
    }
   ],
   "source": [
    "FractalView(0im,1im,0, 100)"
   ]
  },
  {
   "cell_type": "code",
   "execution_count": 18,
   "id": "458edbdf-32fd-43a3-bc71-5b53c5a52565",
   "metadata": {},
   "outputs": [
    {
     "ename": "LoadError",
     "evalue": "ArgumentError: The size of the window must be a positive Integer larger than 0",
     "output_type": "error",
     "traceback": [
      "ArgumentError: The size of the window must be a positive Integer larger than 0",
      "",
      "Stacktrace:",
      " [1] FractalView(min::Complex{Int64}, max::Complex{Int64}, width::Int64, height::Int64)",
      "   @ Main.Fractals C:\\Users\\xfouc\\OneDrive\\Documents\\Mandelbrot-\\Fractals.jl:25",
      " [2] top-level scope",
      "   @ In[18]:1",
      " [3] eval",
      "   @ .\\boot.jl:368 [inlined]",
      " [4] include_string(mapexpr::typeof(REPL.softscope), mod::Module, code::String, filename::String)",
      "   @ Base .\\loading.jl:1428"
     ]
    }
   ],
   "source": [
    "FractalView(0im,1im,123, 0)"
   ]
  },
  {
   "cell_type": "code",
   "execution_count": 21,
   "id": "1c586d52-32af-4673-b831-56c245aaa283",
   "metadata": {},
   "outputs": [
    {
     "data": {
      "text/plain": [
       "6-element Vector{Complex}:\n",
       " 0 + 0im\n",
       " 0 + 0im\n",
       " 0 + 0im\n",
       " 0 + 0im\n",
       " 0 + 0im\n",
       " 0 + 0im"
      ]
     },
     "execution_count": 21,
     "metadata": {},
     "output_type": "execute_result"
    }
   ],
   "source": [
    "f(x) = x^2\n",
    "\n",
    "iterateFunction(f, 0im, 5)"
   ]
  },
  {
   "cell_type": "code",
   "execution_count": 22,
   "id": "2f9eba04-dbe7-431a-be07-07fd32fa5bc5",
   "metadata": {},
   "outputs": [
    {
     "data": {
      "text/plain": [
       "6-element Vector{Complex}:\n",
       "  0 - 1im\n",
       " -1 + 0im\n",
       "  1 + 0im\n",
       "  1 + 0im\n",
       "  1 + 0im\n",
       "  1 + 0im"
      ]
     },
     "execution_count": 22,
     "metadata": {},
     "output_type": "execute_result"
    }
   ],
   "source": [
    "iterateFunction(f, -1im, 5)"
   ]
  },
  {
   "cell_type": "code",
   "execution_count": 24,
   "id": "b9cbfe70-fd89-456e-9e0b-bd7c3c624c45",
   "metadata": {},
   "outputs": [
    {
     "data": {
      "text/plain": [
       "6-element Vector{Complex}:\n",
       "             -0.5 + 0.5im\n",
       "              0.0 - 0.5im\n",
       "            -0.25 - 0.0im\n",
       "           0.0625 + 0.0im\n",
       "       0.00390625 + 0.0im\n",
       " 1.52587890625e-5 + 0.0im"
      ]
     },
     "execution_count": 24,
     "metadata": {},
     "output_type": "execute_result"
    }
   ],
   "source": [
    "iterateFunction(f, -.5+.5im, 5)"
   ]
  },
  {
   "cell_type": "code",
   "execution_count": 29,
   "id": "d76a6b9c-3655-4881-a341-16c193e94d55",
   "metadata": {},
   "outputs": [
    {
     "data": {
      "text/plain": [
       "1"
      ]
     },
     "execution_count": 29,
     "metadata": {},
     "output_type": "execute_result"
    }
   ],
   "source": [
    "leavingNumber(-1im) # stays\n",
    "leavingNumber(-1.01im) # leaves\n",
    "leavingNumber(.4+0im) # leaves\n",
    "leavingNumber(-.5+.5im) # stays\n",
    "leavingNumber(2im) # already left "
   ]
  },
  {
   "cell_type": "code",
   "execution_count": 35,
   "id": "9c7d2831-5c05-4f58-ae8c-d61065ff6fb0",
   "metadata": {},
   "outputs": [
    {
     "data": {
      "text/plain": [
       "FractalView(0 + 0im, 2 + 2im, 800, 600)"
      ]
     },
     "execution_count": 35,
     "metadata": {},
     "output_type": "execute_result"
    }
   ],
   "source": [
    "fractal = FractalView()"
   ]
  },
  {
   "cell_type": "code",
   "execution_count": 36,
   "id": "33af1a5b-21fa-4be4-913c-0cd6bf3e8a6b",
   "metadata": {},
   "outputs": [
    {
     "data": {
      "text/plain": [
       "100-element Vector{Int64}:\n",
       " 101\n",
       " 101\n",
       " 101\n",
       " 101\n",
       " 101\n",
       " 101\n",
       " 101\n",
       " 101\n",
       " 101\n",
       " 101\n",
       " 101\n",
       " 101\n",
       " 101\n",
       "   ⋮\n",
       "   1\n",
       "   1\n",
       "   1\n",
       "   1\n",
       "   1\n",
       "   1\n",
       "   1\n",
       "   1\n",
       "   1\n",
       "   1\n",
       "   1\n",
       "   1"
      ]
     },
     "execution_count": 36,
     "metadata": {},
     "output_type": "execute_result"
    }
   ],
   "source": [
    "mandelbrotViewer(fractal)"
   ]
  },
  {
   "cell_type": "code",
   "execution_count": null,
   "id": "a1588242-fa36-4ed3-b66e-631793acf548",
   "metadata": {},
   "outputs": [],
   "source": []
  }
 ],
 "metadata": {
  "kernelspec": {
   "display_name": "Julia 1.8.0",
   "language": "julia",
   "name": "julia-1.8"
  },
  "language_info": {
   "file_extension": ".jl",
   "mimetype": "application/julia",
   "name": "julia",
   "version": "1.8.0"
  }
 },
 "nbformat": 4,
 "nbformat_minor": 5
}
