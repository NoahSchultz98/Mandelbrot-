{
 "cells": [
  {
   "cell_type": "markdown",
   "id": "3ae82bbb-6ddb-4e98-b2e7-0138f94725ba",
   "metadata": {},
   "source": [
    "## Working through whatever\n",
    "\n"
   ]
  },
  {
   "cell_type": "code",
   "execution_count": 56,
   "id": "d3b5a9bf-ac14-4842-9c9b-e4c0048a63e5",
   "metadata": {},
   "outputs": [],
   "source": [
    "using Revise"
   ]
  },
  {
   "cell_type": "code",
   "execution_count": 57,
   "id": "26e9dcf2-ae75-47af-89b7-46b978a94483",
   "metadata": {},
   "outputs": [],
   "source": [
    "includet(\"Fractals.jl\")"
   ]
  },
  {
   "cell_type": "code",
   "execution_count": 58,
   "id": "41f1da41-b1e2-408c-a12a-6db76662859b",
   "metadata": {},
   "outputs": [],
   "source": [
    "using .Fractals"
   ]
  },
  {
   "cell_type": "code",
   "execution_count": 59,
   "id": "5486fb7f-2fc9-40dc-8c49-e6c2a452d954",
   "metadata": {},
   "outputs": [
    {
     "name": "stdout",
     "output_type": "stream",
     "text": [
      "search: \u001b[0m\u001b[1mi\u001b[22m\u001b[0m\u001b[1mt\u001b[22m\u001b[0m\u001b[1me\u001b[22m\u001b[0m\u001b[1mr\u001b[22m\u001b[0m\u001b[1ma\u001b[22m\u001b[0m\u001b[1mt\u001b[22m\u001b[0m\u001b[1me\u001b[22m\u001b[0m\u001b[1mF\u001b[22m\u001b[0m\u001b[1mu\u001b[22m\u001b[0m\u001b[1mn\u001b[22m\u001b[0m\u001b[1mc\u001b[22m\u001b[0m\u001b[1mt\u001b[22m\u001b[0m\u001b[1mi\u001b[22m\u001b[0m\u001b[1mo\u001b[22m\u001b[0m\u001b[1mn\u001b[22m\n",
      "\n"
     ]
    },
    {
     "data": {
      "text/latex": [
       "This is the iterate function that takes a compelx function and iterates it a certain number of times.\n",
       "\n"
      ],
      "text/markdown": [
       "This is the iterate function that takes a compelx function and iterates it a certain number of times.\n"
      ],
      "text/plain": [
       "  This is the iterate function that takes a compelx function and iterates it a\n",
       "  certain number of times."
      ]
     },
     "execution_count": 59,
     "metadata": {},
     "output_type": "execute_result"
    }
   ],
   "source": [
    "?iterateFunction"
   ]
  },
  {
   "cell_type": "code",
   "execution_count": 63,
   "id": "de460969-c19a-4ae3-93df-01b92b8cd5bf",
   "metadata": {
    "tags": []
   },
   "outputs": [
    {
     "data": {
      "text/plain": [
       "101-element Vector{Complex}:\n",
       "  0 + 0im\n",
       "  0 + 1im\n",
       " -1 + 1im\n",
       "  0 - 1im\n",
       " -1 + 1im\n",
       "  0 - 1im\n",
       " -1 + 1im\n",
       "  0 - 1im\n",
       " -1 + 1im\n",
       "  0 - 1im\n",
       " -1 + 1im\n",
       "  0 - 1im\n",
       " -1 + 1im\n",
       "    ⋮\n",
       "  0 - 1im\n",
       " -1 + 1im\n",
       "  0 - 1im\n",
       " -1 + 1im\n",
       "  0 - 1im\n",
       " -1 + 1im\n",
       "  0 - 1im\n",
       " -1 + 1im\n",
       "  0 - 1im\n",
       " -1 + 1im\n",
       "  0 - 1im\n",
       " -1 + 1im"
      ]
     },
     "execution_count": 63,
     "metadata": {},
     "output_type": "execute_result"
    }
   ],
   "source": [
    "f(x) = x^2 + im\n",
    "\n",
    "iterateFunction(f, 0 + 0im, 100)"
   ]
  },
  {
   "cell_type": "code",
   "execution_count": 64,
   "id": "a97e759e-542b-4dd0-9de7-5de469f68b8e",
   "metadata": {},
   "outputs": [
    {
     "ename": "LoadError",
     "evalue": "UndefVarError: j not defined",
     "output_type": "error",
     "traceback": [
      "UndefVarError: j not defined",
      "",
      "Stacktrace:",
      " [1] leavingNumber(i::Int64, initial::Complex{Int64})",
      "   @ Main.Fractals C:\\Users\\xfouc\\OneDrive\\Documents\\Mandelbrot-\\Fractals.jl:58",
      " [2] leavingNumber()",
      "   @ Main.Fractals C:\\Users\\xfouc\\OneDrive\\Documents\\Mandelbrot-\\Fractals.jl:48",
      " [3] top-level scope",
      "   @ In[64]:1",
      " [4] eval",
      "   @ .\\boot.jl:368 [inlined]",
      " [5] include_string(mapexpr::typeof(REPL.softscope), mod::Module, code::String, filename::String)",
      "   @ Base .\\loading.jl:1428"
     ]
    }
   ],
   "source": [
    "leavingNumber()"
   ]
  },
  {
   "cell_type": "code",
   "execution_count": null,
   "id": "306f44cf-bb7e-4bce-acf3-8a5b6f9502fe",
   "metadata": {},
   "outputs": [],
   "source": []
  },
  {
   "cell_type": "code",
   "execution_count": 39,
   "id": "63fdd94e-ede2-4fdd-9a11-ad3669574e00",
   "metadata": {},
   "outputs": [
    {
     "name": "stdout",
     "output_type": "stream",
     "text": [
      "\u001b[0m\u001b[1mTest Summary:  | \u001b[22m\u001b[32m\u001b[1mPass  \u001b[22m\u001b[39m\u001b[36m\u001b[1mTotal  \u001b[22m\u001b[39m\u001b[0m\u001b[1mTime\u001b[22m\n",
      "This is a test | \u001b[32m   1  \u001b[39m\u001b[36m    1  \u001b[39m\u001b[0m0.0s\n"
     ]
    },
    {
     "data": {
      "text/plain": [
       "Test.DefaultTestSet(\"This is a test\", Any[], 1, false, false, true, 1.669925416391e9, 1.669925416391e9)"
      ]
     },
     "execution_count": 39,
     "metadata": {},
     "output_type": "execute_result"
    }
   ],
   "source": [
    "include(\"Fractals-Test.jl\")"
   ]
  },
  {
   "cell_type": "code",
   "execution_count": null,
   "id": "cb5f5604-705f-4a5e-8e54-f6d47f7fdb6c",
   "metadata": {},
   "outputs": [],
   "source": []
  }
 ],
 "metadata": {
  "kernelspec": {
   "display_name": "Julia 1.8.0",
   "language": "julia",
   "name": "julia-1.8"
  },
  "language_info": {
   "file_extension": ".jl",
   "mimetype": "application/julia",
   "name": "julia",
   "version": "1.8.0"
  }
 },
 "nbformat": 4,
 "nbformat_minor": 5
}
