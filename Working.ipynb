{
 "cells": [
  {
   "cell_type": "markdown",
   "id": "3ae82bbb-6ddb-4e98-b2e7-0138f94725ba",
   "metadata": {},
   "source": [
    "## Working through whatever\n",
    "\n"
   ]
  },
  {
   "cell_type": "code",
   "execution_count": 1,
   "id": "d3b5a9bf-ac14-4842-9c9b-e4c0048a63e5",
   "metadata": {},
   "outputs": [],
   "source": [
    "using Revise"
   ]
  },
  {
   "cell_type": "code",
   "execution_count": 2,
   "id": "26e9dcf2-ae75-47af-89b7-46b978a94483",
   "metadata": {},
   "outputs": [],
   "source": [
    "includet(\"Fractals.jl\")"
   ]
  },
  {
   "cell_type": "code",
   "execution_count": 3,
   "id": "41f1da41-b1e2-408c-a12a-6db76662859b",
   "metadata": {},
   "outputs": [],
   "source": [
    "using .Fractals"
   ]
  },
  {
   "cell_type": "code",
   "execution_count": 4,
   "id": "63fdd94e-ede2-4fdd-9a11-ad3669574e00",
   "metadata": {},
   "outputs": [
    {
     "data": {
      "text/plain": [
       "\u001b[32m\u001b[1mTest Passed\u001b[22m\u001b[39m"
      ]
     },
     "execution_count": 4,
     "metadata": {},
     "output_type": "execute_result"
    }
   ],
   "source": [
    "include(\"Fractals-Test.jl\")"
   ]
  },
  {
   "cell_type": "code",
   "execution_count": null,
   "id": "ebf23631-80d0-4efe-8aa8-41d4ff0d2d04",
   "metadata": {},
   "outputs": [],
   "source": []
  }
 ],
 "metadata": {
  "kernelspec": {
   "display_name": "Julia 1.8.0",
   "language": "julia",
   "name": "julia-1.8"
  },
  "language_info": {
   "file_extension": ".jl",
   "mimetype": "application/julia",
   "name": "julia",
   "version": "1.8.0"
  }
 },
 "nbformat": 4,
 "nbformat_minor": 5
}
