{
 "cells": [
  {
   "cell_type": "markdown",
   "id": "3ae82bbb-6ddb-4e98-b2e7-0138f94725ba",
   "metadata": {},
   "source": [
    "## Working through whatever\n",
    "\n"
   ]
  },
  {
   "cell_type": "code",
   "execution_count": 5,
   "id": "d3b5a9bf-ac14-4842-9c9b-e4c0048a63e5",
   "metadata": {},
   "outputs": [],
   "source": [
    "using Revise"
   ]
  },
  {
   "cell_type": "code",
   "execution_count": 6,
   "id": "26e9dcf2-ae75-47af-89b7-46b978a94483",
   "metadata": {},
   "outputs": [],
   "source": [
    "includet(\"Fractals.jl\")"
   ]
  },
  {
   "cell_type": "code",
   "execution_count": 7,
   "id": "41f1da41-b1e2-408c-a12a-6db76662859b",
   "metadata": {},
   "outputs": [],
   "source": [
    "using .Fractals"
   ]
  },
  {
   "cell_type": "code",
   "execution_count": 8,
   "id": "63fdd94e-ede2-4fdd-9a11-ad3669574e00",
   "metadata": {},
   "outputs": [
    {
     "ename": "LoadError",
     "evalue": "LoadError: No arguments to @testset\nin expression starting at C:\\Users\\xfouc\\OneDrive\\Documents\\Mandelbrot-\\Fractals-Test.jl:4\nin expression starting at C:\\Users\\xfouc\\OneDrive\\Documents\\Mandelbrot-\\Fractals-Test.jl:4",
     "output_type": "error",
     "traceback": [
      "LoadError: No arguments to @testset\nin expression starting at C:\\Users\\xfouc\\OneDrive\\Documents\\Mandelbrot-\\Fractals-Test.jl:4\nin expression starting at C:\\Users\\xfouc\\OneDrive\\Documents\\Mandelbrot-\\Fractals-Test.jl:4",
      "",
      "Stacktrace:",
      " [1] error(s::String)",
      "   @ Base .\\error.jl:35",
      " [2] var\"@testset\"(__source__::LineNumberNode, __module__::Module, args::Vararg{Any})",
      "   @ Test C:\\Users\\xfouc\\AppData\\Local\\Programs\\Julia-1.8.0\\share\\julia\\stdlib\\v1.8\\Test\\src\\Test.jl:1303",
      " [3] include(fname::String)",
      "   @ Base.MainInclude .\\client.jl:476",
      " [4] top-level scope",
      "   @ In[8]:1",
      " [5] eval",
      "   @ .\\boot.jl:368 [inlined]",
      " [6] include_string(mapexpr::typeof(REPL.softscope), mod::Module, code::String, filename::String)",
      "   @ Base .\\loading.jl:1428"
     ]
    }
   ],
   "source": [
    "include(\"Fractals-Test.jl\")"
   ]
  },
  {
   "cell_type": "code",
   "execution_count": null,
   "id": "ebf23631-80d0-4efe-8aa8-41d4ff0d2d04",
   "metadata": {},
   "outputs": [],
   "source": []
  }
 ],
 "metadata": {
  "kernelspec": {
   "display_name": "Julia 1.8.0",
   "language": "julia",
   "name": "julia-1.8"
  },
  "language_info": {
   "file_extension": ".jl",
   "mimetype": "application/julia",
   "name": "julia",
   "version": "1.8.0"
  }
 },
 "nbformat": 4,
 "nbformat_minor": 5
}
